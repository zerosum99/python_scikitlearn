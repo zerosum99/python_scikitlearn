{
 "cells": [
  {
   "cell_type": "code",
   "execution_count": 2,
   "id": "japanese-membrane",
   "metadata": {},
   "outputs": [],
   "source": [
    "import sklearn.feature_extraction as fe"
   ]
  },
  {
   "cell_type": "code",
   "execution_count": 13,
   "id": "historical-allocation",
   "metadata": {},
   "outputs": [
    {
     "name": "stdout",
     "output_type": "stream",
     "text": [
      "DictVectorizer\n",
      "FeatureHasher\n",
      "grid_to_graph\n",
      "image\n",
      "img_to_graph\n",
      "text\n"
     ]
    }
   ],
   "source": [
    "for i in dir(fe) :\n",
    "    print(i) if not i.startswith(\"_\") else _"
   ]
  },
  {
   "cell_type": "code",
   "execution_count": 10,
   "id": "objective-austin",
   "metadata": {},
   "outputs": [],
   "source": [
    "d = [{'지방자치' : \"서울시\"},\n",
    "     {'지방자치' : \"경기도\"}, \n",
    "     {'지방자치' : \"광주\"}]"
   ]
  },
  {
   "cell_type": "code",
   "execution_count": 11,
   "id": "senior-outside",
   "metadata": {},
   "outputs": [],
   "source": [
    "dic = fe.DictVectorizer()"
   ]
  },
  {
   "cell_type": "code",
   "execution_count": 12,
   "id": "gross-baseball",
   "metadata": {},
   "outputs": [
    {
     "data": {
      "text/plain": [
       "array([[0., 0., 1.],\n",
       "       [1., 0., 0.],\n",
       "       [0., 1., 0.]])"
      ]
     },
     "execution_count": 12,
     "metadata": {},
     "output_type": "execute_result"
    }
   ],
   "source": [
    "dic.fit_transform(d).toarray()"
   ]
  },
  {
   "cell_type": "code",
   "execution_count": 19,
   "id": "sonic-maine",
   "metadata": {},
   "outputs": [],
   "source": [
    "import sklearn.preprocessing as pre"
   ]
  },
  {
   "cell_type": "code",
   "execution_count": 20,
   "id": "protecting-country",
   "metadata": {},
   "outputs": [
    {
     "name": "stdout",
     "output_type": "stream",
     "text": [
      "Binarizer\n",
      "FunctionTransformer\n",
      "KBinsDiscretizer\n",
      "KernelCenterer\n",
      "LabelBinarizer\n",
      "LabelEncoder\n",
      "MaxAbsScaler\n",
      "MinMaxScaler\n",
      "MultiLabelBinarizer\n",
      "Normalizer\n",
      "OneHotEncoder\n",
      "OrdinalEncoder\n",
      "PolynomialFeatures\n",
      "PowerTransformer\n",
      "QuantileTransformer\n",
      "RobustScaler\n",
      "StandardScaler\n",
      "add_dummy_feature\n",
      "binarize\n",
      "label_binarize\n",
      "maxabs_scale\n",
      "minmax_scale\n",
      "normalize\n",
      "power_transform\n",
      "quantile_transform\n",
      "robust_scale\n",
      "scale\n"
     ]
    }
   ],
   "source": [
    "for i in dir(pre) :\n",
    "    print(i) if not i.startswith(\"_\") else _"
   ]
  },
  {
   "cell_type": "code",
   "execution_count": 21,
   "id": "yellow-scott",
   "metadata": {},
   "outputs": [
    {
     "data": {
      "text/plain": [
       "OneHotEncoder(handle_unknown='ignore')"
      ]
     },
     "execution_count": 21,
     "metadata": {},
     "output_type": "execute_result"
    }
   ],
   "source": [
    "enc = pre.OneHotEncoder(handle_unknown='ignore')\n",
    "X = [['Male', 1], ['Female', 3], ['Female', 2]]\n",
    "enc.fit(X)"
   ]
  },
  {
   "cell_type": "code",
   "execution_count": 22,
   "id": "decimal-springer",
   "metadata": {},
   "outputs": [
    {
     "data": {
      "text/plain": [
       "[array(['Female', 'Male'], dtype=object), array([1, 2, 3], dtype=object)]"
      ]
     },
     "execution_count": 22,
     "metadata": {},
     "output_type": "execute_result"
    }
   ],
   "source": [
    "enc.categories_"
   ]
  },
  {
   "cell_type": "code",
   "execution_count": 23,
   "id": "interior-mobile",
   "metadata": {},
   "outputs": [
    {
     "data": {
      "text/plain": [
       "array([[1., 0., 1., 0., 0.],\n",
       "       [0., 1., 0., 0., 0.]])"
      ]
     },
     "execution_count": 23,
     "metadata": {},
     "output_type": "execute_result"
    }
   ],
   "source": [
    "enc.transform([['Female', 1], ['Male', 4]]).toarray()"
   ]
  },
  {
   "cell_type": "code",
   "execution_count": 24,
   "id": "multiple-mailing",
   "metadata": {},
   "outputs": [
    {
     "data": {
      "text/plain": [
       "array([['Male', 1],\n",
       "       [None, 2]], dtype=object)"
      ]
     },
     "execution_count": 24,
     "metadata": {},
     "output_type": "execute_result"
    }
   ],
   "source": [
    "enc.inverse_transform([[0, 1, 1, 0, 0], [0, 0, 0, 1, 0]])"
   ]
  },
  {
   "cell_type": "code",
   "execution_count": 25,
   "id": "reasonable-reference",
   "metadata": {},
   "outputs": [],
   "source": [
    "enc1 = pre.OneHotEncoder(handle_unknown='ignore')"
   ]
  },
  {
   "cell_type": "code",
   "execution_count": 27,
   "id": "spoken-contribution",
   "metadata": {},
   "outputs": [
    {
     "data": {
      "text/plain": [
       "array([[0., 1., 1., 0., 0.],\n",
       "       [1., 0., 0., 0., 1.],\n",
       "       [1., 0., 0., 1., 0.]])"
      ]
     },
     "execution_count": 27,
     "metadata": {},
     "output_type": "execute_result"
    }
   ],
   "source": [
    "enc1.fit_transform(X).toarray()"
   ]
  },
  {
   "cell_type": "code",
   "execution_count": null,
   "id": "functioning-rental",
   "metadata": {},
   "outputs": [],
   "source": []
  },
  {
   "cell_type": "code",
   "execution_count": null,
   "id": "forbidden-adaptation",
   "metadata": {},
   "outputs": [],
   "source": []
  },
  {
   "cell_type": "code",
   "execution_count": null,
   "id": "criminal-cliff",
   "metadata": {},
   "outputs": [],
   "source": []
  },
  {
   "cell_type": "code",
   "execution_count": 15,
   "id": "chief-manitoba",
   "metadata": {},
   "outputs": [],
   "source": [
    "import sklearn.feature_selection as fs"
   ]
  },
  {
   "cell_type": "code",
   "execution_count": 16,
   "id": "corporate-grove",
   "metadata": {},
   "outputs": [
    {
     "name": "stdout",
     "output_type": "stream",
     "text": [
      "GenericUnivariateSelect\n",
      "RFE\n",
      "RFECV\n",
      "SelectFdr\n",
      "SelectFpr\n",
      "SelectFromModel\n",
      "SelectFwe\n",
      "SelectKBest\n",
      "SelectPercentile\n",
      "SelectorMixin\n",
      "SequentialFeatureSelector\n",
      "VarianceThreshold\n",
      "chi2\n",
      "f_classif\n",
      "f_oneway\n",
      "f_regression\n",
      "mutual_info_classif\n",
      "mutual_info_regression\n"
     ]
    }
   ],
   "source": [
    "for i in dir(fs) :\n",
    "    print(i) if not i.startswith(\"_\") else _"
   ]
  },
  {
   "cell_type": "code",
   "execution_count": 18,
   "id": "usual-stress",
   "metadata": {},
   "outputs": [
    {
     "name": "stdout",
     "output_type": "stream",
     "text": [
      "Name: scikit-learn\r\n",
      "Version: 0.24.1\r\n",
      "Summary: A set of python modules for machine learning and data mining\r\n",
      "Home-page: http://scikit-learn.org\r\n",
      "Author: None\r\n",
      "Author-email: None\r\n",
      "License: new BSD\r\n",
      "Location: /Users/dahlmoon/anaconda3/lib/python3.7/site-packages\r\n",
      "Requires: joblib, scipy, threadpoolctl, numpy\r\n",
      "Required-by: yellowbrick, umap-learn, tune-sklearn, suod, shap, scikit-plot, scikit-optimize, pyod, pycaret-nightly, Orange3, openTSNE, ngboost, mlxtend, lightgbm, kmodes, imbalanced-learn, dask-ml, dask-glm, dabl, combo, Boruta, bayesian-optimization\r\n"
     ]
    }
   ],
   "source": [
    "!pip show scikit-learn"
   ]
  },
  {
   "cell_type": "code",
   "execution_count": null,
   "id": "enhanced-transformation",
   "metadata": {},
   "outputs": [],
   "source": []
  }
 ],
 "metadata": {
  "kernelspec": {
   "display_name": "Python 3",
   "language": "python",
   "name": "python3"
  },
  "language_info": {
   "codemirror_mode": {
    "name": "ipython",
    "version": 3
   },
   "file_extension": ".py",
   "mimetype": "text/x-python",
   "name": "python",
   "nbconvert_exporter": "python",
   "pygments_lexer": "ipython3",
   "version": "3.7.9"
  }
 },
 "nbformat": 4,
 "nbformat_minor": 5
}
