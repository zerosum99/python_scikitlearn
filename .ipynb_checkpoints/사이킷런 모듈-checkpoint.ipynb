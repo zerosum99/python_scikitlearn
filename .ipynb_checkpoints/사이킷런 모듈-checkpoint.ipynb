{
 "cells": [
  {
   "cell_type": "markdown",
   "id": "professional-accreditation",
   "metadata": {},
   "source": [
    "## 사이킷런 모듈\n",
    "\n",
    "https://scikit-learn.org/stable/modules/classes.html"
   ]
  },
  {
   "cell_type": "code",
   "execution_count": null,
   "id": "specific-protection",
   "metadata": {},
   "outputs": [],
   "source": []
  },
  {
   "cell_type": "code",
   "execution_count": 1,
   "id": "provincial-generation",
   "metadata": {},
   "outputs": [],
   "source": [
    "import sklearn"
   ]
  },
  {
   "cell_type": "code",
   "execution_count": 2,
   "id": "institutional-dietary",
   "metadata": {},
   "outputs": [
    {
     "data": {
      "text/plain": [
       "'0.24.1'"
      ]
     },
     "execution_count": 2,
     "metadata": {},
     "output_type": "execute_result"
    }
   ],
   "source": [
    "sklearn.__version__"
   ]
  },
  {
   "cell_type": "code",
   "execution_count": 4,
   "id": "directed-gossip",
   "metadata": {},
   "outputs": [
    {
     "name": "stdout",
     "output_type": "stream",
     "text": [
      "base\n",
      "clone\n",
      "config_context\n",
      "exceptions\n",
      "get_config\n",
      "logger\n",
      "logging\n",
      "os\n",
      "random\n",
      "set_config\n",
      "setup_module\n",
      "show_versions\n",
      "sys\n",
      "utils\n"
     ]
    }
   ],
   "source": [
    "for i in dir(sklearn) :\n",
    "    print(i) if not i.startswith(\"_\") else _"
   ]
  },
  {
   "cell_type": "code",
   "execution_count": 9,
   "id": "regulated-hollow",
   "metadata": {},
   "outputs": [],
   "source": [
    "import sklearn.linear_model as lm"
   ]
  },
  {
   "cell_type": "code",
   "execution_count": 13,
   "id": "broke-classroom",
   "metadata": {},
   "outputs": [
    {
     "name": "stdout",
     "output_type": "stream",
     "text": [
      "ARDRegression\n",
      "BayesianRidge\n",
      "ElasticNet\n",
      "ElasticNetCV\n",
      "GammaRegressor\n",
      "Hinge\n",
      "Huber\n",
      "HuberRegressor\n",
      "Lars\n",
      "LarsCV\n",
      "Lasso\n",
      "LassoCV\n",
      "LassoLars\n",
      "LassoLarsCV\n",
      "LassoLarsIC\n",
      "LinearRegression\n",
      "Log\n",
      "LogisticRegression\n",
      "LogisticRegressionCV\n",
      "ModifiedHuber\n",
      "MultiTaskElasticNet\n",
      "MultiTaskElasticNetCV\n",
      "MultiTaskLasso\n",
      "MultiTaskLassoCV\n",
      "OrthogonalMatchingPursuit\n",
      "OrthogonalMatchingPursuitCV\n",
      "PassiveAggressiveClassifier\n",
      "PassiveAggressiveRegressor\n",
      "Perceptron\n",
      "PoissonRegressor\n",
      "RANSACRegressor\n",
      "Ridge\n",
      "RidgeCV\n",
      "RidgeClassifier\n",
      "RidgeClassifierCV\n",
      "SGDClassifier\n",
      "SGDRegressor\n",
      "SquaredLoss\n",
      "TheilSenRegressor\n",
      "TweedieRegressor\n",
      "enet_path\n",
      "lars_path\n",
      "lars_path_gram\n",
      "lasso_path\n",
      "orthogonal_mp\n",
      "orthogonal_mp_gram\n",
      "ridge_regression\n"
     ]
    }
   ],
   "source": [
    "for i in dir(lm) :\n",
    "    print(i) if not i.startswith(\"_\") else _"
   ]
  },
  {
   "cell_type": "code",
   "execution_count": 10,
   "id": "statutory-willow",
   "metadata": {},
   "outputs": [],
   "source": [
    "import sklearn.cluster as cl"
   ]
  },
  {
   "cell_type": "code",
   "execution_count": 14,
   "id": "indirect-wildlife",
   "metadata": {},
   "outputs": [
    {
     "name": "stdout",
     "output_type": "stream",
     "text": [
      "AffinityPropagation\n",
      "AgglomerativeClustering\n",
      "Birch\n",
      "DBSCAN\n",
      "FeatureAgglomeration\n",
      "KMeans\n",
      "MeanShift\n",
      "MiniBatchKMeans\n",
      "OPTICS\n",
      "SpectralBiclustering\n",
      "SpectralClustering\n",
      "SpectralCoclustering\n",
      "affinity_propagation\n",
      "cluster_optics_dbscan\n",
      "cluster_optics_xi\n",
      "compute_optics_graph\n",
      "dbscan\n",
      "estimate_bandwidth\n",
      "get_bin_seeds\n",
      "k_means\n",
      "kmeans_plusplus\n",
      "linkage_tree\n",
      "mean_shift\n",
      "spectral_clustering\n",
      "ward_tree\n"
     ]
    }
   ],
   "source": [
    "for i in dir(cl) :\n",
    "    print(i) if not i.startswith(\"_\") else _"
   ]
  },
  {
   "cell_type": "code",
   "execution_count": 11,
   "id": "martial-processor",
   "metadata": {},
   "outputs": [],
   "source": [
    "import sklearn.compose as com"
   ]
  },
  {
   "cell_type": "code",
   "execution_count": 15,
   "id": "textile-oriental",
   "metadata": {},
   "outputs": [
    {
     "name": "stdout",
     "output_type": "stream",
     "text": [
      "ColumnTransformer\n",
      "TransformedTargetRegressor\n",
      "make_column_selector\n",
      "make_column_transformer\n"
     ]
    }
   ],
   "source": [
    "for i in dir(com) :\n",
    "    print(i) if not i.startswith(\"_\") else _"
   ]
  },
  {
   "cell_type": "code",
   "execution_count": 12,
   "id": "preliminary-witness",
   "metadata": {},
   "outputs": [],
   "source": [
    "import sklearn.ensemble as ens"
   ]
  },
  {
   "cell_type": "code",
   "execution_count": 16,
   "id": "contained-anthropology",
   "metadata": {},
   "outputs": [
    {
     "name": "stdout",
     "output_type": "stream",
     "text": [
      "AdaBoostClassifier\n",
      "AdaBoostRegressor\n",
      "BaggingClassifier\n",
      "BaggingRegressor\n",
      "BaseEnsemble\n",
      "ExtraTreesClassifier\n",
      "ExtraTreesRegressor\n",
      "GradientBoostingClassifier\n",
      "GradientBoostingRegressor\n",
      "IsolationForest\n",
      "RandomForestClassifier\n",
      "RandomForestRegressor\n",
      "RandomTreesEmbedding\n",
      "StackingClassifier\n",
      "StackingRegressor\n",
      "VotingClassifier\n",
      "VotingRegressor\n",
      "typing\n"
     ]
    }
   ],
   "source": [
    "for i in dir(ens) :\n",
    "    print(i) if not i.startswith(\"_\") else _"
   ]
  },
  {
   "cell_type": "code",
   "execution_count": 17,
   "id": "enormous-geneva",
   "metadata": {},
   "outputs": [],
   "source": [
    "import sklearn.model_selection as ms"
   ]
  },
  {
   "cell_type": "code",
   "execution_count": 18,
   "id": "conventional-accent",
   "metadata": {},
   "outputs": [
    {
     "name": "stdout",
     "output_type": "stream",
     "text": [
      "BaseCrossValidator\n",
      "GridSearchCV\n",
      "GroupKFold\n",
      "GroupShuffleSplit\n",
      "KFold\n",
      "LeaveOneGroupOut\n",
      "LeaveOneOut\n",
      "LeavePGroupsOut\n",
      "LeavePOut\n",
      "ParameterGrid\n",
      "ParameterSampler\n",
      "PredefinedSplit\n",
      "RandomizedSearchCV\n",
      "RepeatedKFold\n",
      "RepeatedStratifiedKFold\n",
      "ShuffleSplit\n",
      "StratifiedKFold\n",
      "StratifiedShuffleSplit\n",
      "TimeSeriesSplit\n",
      "check_cv\n",
      "cross_val_predict\n",
      "cross_val_score\n",
      "cross_validate\n",
      "fit_grid_point\n",
      "learning_curve\n",
      "permutation_test_score\n",
      "train_test_split\n",
      "typing\n",
      "validation_curve\n"
     ]
    }
   ],
   "source": [
    "for i in dir(ms) :\n",
    "    print(i) if not i.startswith(\"_\") else _"
   ]
  },
  {
   "cell_type": "code",
   "execution_count": 19,
   "id": "italian-nutrition",
   "metadata": {},
   "outputs": [],
   "source": [
    "import sklearn.feature_extraction as fe"
   ]
  },
  {
   "cell_type": "code",
   "execution_count": 20,
   "id": "tropical-medication",
   "metadata": {},
   "outputs": [
    {
     "name": "stdout",
     "output_type": "stream",
     "text": [
      "DictVectorizer\n",
      "FeatureHasher\n",
      "grid_to_graph\n",
      "image\n",
      "img_to_graph\n",
      "text\n"
     ]
    }
   ],
   "source": [
    "for i in dir(fe) :\n",
    "    print(i) if not i.startswith(\"_\") else _"
   ]
  },
  {
   "cell_type": "code",
   "execution_count": 21,
   "id": "headed-housing",
   "metadata": {},
   "outputs": [],
   "source": [
    "import sklearn.feature_selection as fs"
   ]
  },
  {
   "cell_type": "code",
   "execution_count": 22,
   "id": "allied-conversation",
   "metadata": {},
   "outputs": [
    {
     "name": "stdout",
     "output_type": "stream",
     "text": [
      "GenericUnivariateSelect\n",
      "RFE\n",
      "RFECV\n",
      "SelectFdr\n",
      "SelectFpr\n",
      "SelectFromModel\n",
      "SelectFwe\n",
      "SelectKBest\n",
      "SelectPercentile\n",
      "SelectorMixin\n",
      "SequentialFeatureSelector\n",
      "VarianceThreshold\n",
      "chi2\n",
      "f_classif\n",
      "f_oneway\n",
      "f_regression\n",
      "mutual_info_classif\n",
      "mutual_info_regression\n"
     ]
    }
   ],
   "source": [
    "for i in dir(fs) :\n",
    "    print(i) if not i.startswith(\"_\") else _"
   ]
  },
  {
   "cell_type": "code",
   "execution_count": 23,
   "id": "banner-arabic",
   "metadata": {},
   "outputs": [],
   "source": [
    "import sklearn.metrics as met"
   ]
  },
  {
   "cell_type": "code",
   "execution_count": 24,
   "id": "normal-evanescence",
   "metadata": {},
   "outputs": [
    {
     "name": "stdout",
     "output_type": "stream",
     "text": [
      "ConfusionMatrixDisplay\n",
      "DetCurveDisplay\n",
      "PrecisionRecallDisplay\n",
      "RocCurveDisplay\n",
      "SCORERS\n",
      "accuracy_score\n",
      "adjusted_mutual_info_score\n",
      "adjusted_rand_score\n",
      "auc\n",
      "average_precision_score\n",
      "balanced_accuracy_score\n",
      "brier_score_loss\n",
      "calinski_harabasz_score\n",
      "check_scoring\n",
      "classification_report\n",
      "cluster\n",
      "cohen_kappa_score\n",
      "completeness_score\n",
      "confusion_matrix\n",
      "consensus_score\n",
      "coverage_error\n",
      "davies_bouldin_score\n",
      "dcg_score\n",
      "det_curve\n",
      "euclidean_distances\n",
      "explained_variance_score\n",
      "f1_score\n",
      "fbeta_score\n",
      "fowlkes_mallows_score\n",
      "get_scorer\n",
      "hamming_loss\n",
      "hinge_loss\n",
      "homogeneity_completeness_v_measure\n",
      "homogeneity_score\n",
      "jaccard_score\n",
      "label_ranking_average_precision_score\n",
      "label_ranking_loss\n",
      "log_loss\n",
      "make_scorer\n",
      "matthews_corrcoef\n",
      "max_error\n",
      "mean_absolute_error\n",
      "mean_absolute_percentage_error\n",
      "mean_gamma_deviance\n",
      "mean_poisson_deviance\n",
      "mean_squared_error\n",
      "mean_squared_log_error\n",
      "mean_tweedie_deviance\n",
      "median_absolute_error\n",
      "multilabel_confusion_matrix\n",
      "mutual_info_score\n",
      "nan_euclidean_distances\n",
      "ndcg_score\n",
      "normalized_mutual_info_score\n",
      "pair_confusion_matrix\n",
      "pairwise\n",
      "pairwise_distances\n",
      "pairwise_distances_argmin\n",
      "pairwise_distances_argmin_min\n",
      "pairwise_distances_chunked\n",
      "pairwise_kernels\n",
      "plot_confusion_matrix\n",
      "plot_det_curve\n",
      "plot_precision_recall_curve\n",
      "plot_roc_curve\n",
      "precision_recall_curve\n",
      "precision_recall_fscore_support\n",
      "precision_score\n",
      "r2_score\n",
      "rand_score\n",
      "recall_score\n",
      "roc_auc_score\n",
      "roc_curve\n",
      "silhouette_samples\n",
      "silhouette_score\n",
      "top_k_accuracy_score\n",
      "v_measure_score\n",
      "zero_one_loss\n"
     ]
    }
   ],
   "source": [
    "for i in dir(met) :\n",
    "    print(i) if not i.startswith(\"_\") else _"
   ]
  },
  {
   "cell_type": "code",
   "execution_count": null,
   "id": "juvenile-polls",
   "metadata": {},
   "outputs": [],
   "source": []
  }
 ],
 "metadata": {
  "kernelspec": {
   "display_name": "Python 3",
   "language": "python",
   "name": "python3"
  },
  "language_info": {
   "codemirror_mode": {
    "name": "ipython",
    "version": 3
   },
   "file_extension": ".py",
   "mimetype": "text/x-python",
   "name": "python",
   "nbconvert_exporter": "python",
   "pygments_lexer": "ipython3",
   "version": "3.7.9"
  }
 },
 "nbformat": 4,
 "nbformat_minor": 5
}
