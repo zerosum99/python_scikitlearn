{
 "cells": [
  {
   "cell_type": "code",
   "execution_count": 5,
   "id": "initial-makeup",
   "metadata": {},
   "outputs": [
    {
     "name": "stdout",
     "output_type": "stream",
     "text": [
      "Overwriting knn.csv\n"
     ]
    }
   ],
   "source": [
    "%%writefile knn.csv\n",
    "신장,몸무게,성별\n",
    "158,64,male\n",
    "170,86,male\n",
    "183,84,male\n",
    "191,80,male\n",
    "155,49,female\n",
    "163,59,female\n",
    "180,67,female\n",
    "158,54,female\n",
    "179,67,female\n"
   ]
  },
  {
   "cell_type": "code",
   "execution_count": 6,
   "id": "suited-times",
   "metadata": {},
   "outputs": [],
   "source": [
    "import pandas as pd"
   ]
  },
  {
   "cell_type": "code",
   "execution_count": 7,
   "id": "stuffed-heather",
   "metadata": {},
   "outputs": [],
   "source": [
    "df = pd.read_csv(\"knn.csv\")"
   ]
  },
  {
   "cell_type": "code",
   "execution_count": 8,
   "id": "rapid-violence",
   "metadata": {},
   "outputs": [
    {
     "data": {
      "text/html": [
       "<div>\n",
       "<style scoped>\n",
       "    .dataframe tbody tr th:only-of-type {\n",
       "        vertical-align: middle;\n",
       "    }\n",
       "\n",
       "    .dataframe tbody tr th {\n",
       "        vertical-align: top;\n",
       "    }\n",
       "\n",
       "    .dataframe thead th {\n",
       "        text-align: right;\n",
       "    }\n",
       "</style>\n",
       "<table border=\"1\" class=\"dataframe\">\n",
       "  <thead>\n",
       "    <tr style=\"text-align: right;\">\n",
       "      <th></th>\n",
       "      <th>신장</th>\n",
       "      <th>몸무게</th>\n",
       "      <th>성별</th>\n",
       "    </tr>\n",
       "  </thead>\n",
       "  <tbody>\n",
       "    <tr>\n",
       "      <th>0</th>\n",
       "      <td>158</td>\n",
       "      <td>64</td>\n",
       "      <td>male</td>\n",
       "    </tr>\n",
       "    <tr>\n",
       "      <th>1</th>\n",
       "      <td>170</td>\n",
       "      <td>86</td>\n",
       "      <td>male</td>\n",
       "    </tr>\n",
       "    <tr>\n",
       "      <th>2</th>\n",
       "      <td>183</td>\n",
       "      <td>84</td>\n",
       "      <td>male</td>\n",
       "    </tr>\n",
       "    <tr>\n",
       "      <th>3</th>\n",
       "      <td>191</td>\n",
       "      <td>80</td>\n",
       "      <td>male</td>\n",
       "    </tr>\n",
       "    <tr>\n",
       "      <th>4</th>\n",
       "      <td>155</td>\n",
       "      <td>49</td>\n",
       "      <td>female</td>\n",
       "    </tr>\n",
       "    <tr>\n",
       "      <th>5</th>\n",
       "      <td>163</td>\n",
       "      <td>59</td>\n",
       "      <td>female</td>\n",
       "    </tr>\n",
       "    <tr>\n",
       "      <th>6</th>\n",
       "      <td>180</td>\n",
       "      <td>67</td>\n",
       "      <td>female</td>\n",
       "    </tr>\n",
       "    <tr>\n",
       "      <th>7</th>\n",
       "      <td>158</td>\n",
       "      <td>54</td>\n",
       "      <td>female</td>\n",
       "    </tr>\n",
       "    <tr>\n",
       "      <th>8</th>\n",
       "      <td>179</td>\n",
       "      <td>67</td>\n",
       "      <td>female</td>\n",
       "    </tr>\n",
       "  </tbody>\n",
       "</table>\n",
       "</div>"
      ],
      "text/plain": [
       "    신장  몸무게      성별\n",
       "0  158   64    male\n",
       "1  170   86    male\n",
       "2  183   84    male\n",
       "3  191   80    male\n",
       "4  155   49  female\n",
       "5  163   59  female\n",
       "6  180   67  female\n",
       "7  158   54  female\n",
       "8  179   67  female"
      ]
     },
     "execution_count": 8,
     "metadata": {},
     "output_type": "execute_result"
    }
   ],
   "source": [
    "df"
   ]
  },
  {
   "cell_type": "markdown",
   "id": "boxed-thesis",
   "metadata": {},
   "source": [
    "## 2진 분류 처리"
   ]
  },
  {
   "cell_type": "code",
   "execution_count": 9,
   "id": "considerable-referral",
   "metadata": {},
   "outputs": [],
   "source": [
    "from sklearn.preprocessing import LabelBinarizer"
   ]
  },
  {
   "cell_type": "code",
   "execution_count": 10,
   "id": "senior-thickness",
   "metadata": {},
   "outputs": [],
   "source": [
    "lb = LabelBinarizer()"
   ]
  },
  {
   "cell_type": "code",
   "execution_count": 12,
   "id": "following-eleven",
   "metadata": {},
   "outputs": [],
   "source": [
    "y_train = lb.fit_transform(df['성별'])"
   ]
  },
  {
   "cell_type": "code",
   "execution_count": 13,
   "id": "perceived-trademark",
   "metadata": {},
   "outputs": [
    {
     "data": {
      "text/plain": [
       "array([[1],\n",
       "       [1],\n",
       "       [1],\n",
       "       [1],\n",
       "       [0],\n",
       "       [0],\n",
       "       [0],\n",
       "       [0],\n",
       "       [0]])"
      ]
     },
     "execution_count": 13,
     "metadata": {},
     "output_type": "execute_result"
    }
   ],
   "source": [
    "y_train"
   ]
  },
  {
   "cell_type": "markdown",
   "id": "documented-lending",
   "metadata": {},
   "source": [
    "## 인접 분류"
   ]
  },
  {
   "cell_type": "code",
   "execution_count": 14,
   "id": "breathing-reliance",
   "metadata": {},
   "outputs": [],
   "source": [
    "from sklearn.neighbors import KNeighborsClassifier"
   ]
  },
  {
   "cell_type": "code",
   "execution_count": 17,
   "id": "nutritional-syndrome",
   "metadata": {},
   "outputs": [],
   "source": [
    "knn = KNeighborsClassifier(n_neighbors=3)"
   ]
  },
  {
   "cell_type": "code",
   "execution_count": 29,
   "id": "informative-yellow",
   "metadata": {},
   "outputs": [
    {
     "data": {
      "text/plain": [
       "KNeighborsClassifier(n_neighbors=3)"
      ]
     },
     "execution_count": 29,
     "metadata": {},
     "output_type": "execute_result"
    }
   ],
   "source": [
    "knn.fit(df[['신장','몸무게']].values, y_train[:,0])"
   ]
  },
  {
   "cell_type": "code",
   "execution_count": 30,
   "id": "binding-humanity",
   "metadata": {},
   "outputs": [
    {
     "data": {
      "text/plain": [
       "array([1])"
      ]
     },
     "execution_count": 30,
     "metadata": {},
     "output_type": "execute_result"
    }
   ],
   "source": [
    "knn.predict([[177,96]])"
   ]
  },
  {
   "cell_type": "code",
   "execution_count": null,
   "id": "martial-dealer",
   "metadata": {},
   "outputs": [],
   "source": []
  },
  {
   "cell_type": "code",
   "execution_count": 33,
   "id": "gross-draft",
   "metadata": {},
   "outputs": [
    {
     "data": {
      "text/plain": [
       "0.8888888888888888"
      ]
     },
     "execution_count": 33,
     "metadata": {},
     "output_type": "execute_result"
    }
   ],
   "source": [
    "knn.score(df[['신장','몸무게']].values, y_train[:,0])"
   ]
  },
  {
   "cell_type": "code",
   "execution_count": null,
   "id": "fatty-petroleum",
   "metadata": {},
   "outputs": [],
   "source": []
  },
  {
   "cell_type": "code",
   "execution_count": 34,
   "id": "postal-network",
   "metadata": {},
   "outputs": [],
   "source": [
    "import sklearn.metrics as met"
   ]
  },
  {
   "cell_type": "code",
   "execution_count": 42,
   "id": "higher-nebraska",
   "metadata": {},
   "outputs": [],
   "source": [
    "pred = knn.predict(df[['신장','몸무게']].values)"
   ]
  },
  {
   "cell_type": "code",
   "execution_count": 43,
   "id": "fantastic-measure",
   "metadata": {},
   "outputs": [
    {
     "data": {
      "text/plain": [
       "array([0, 1, 1, 1, 0, 0, 0, 0, 0])"
      ]
     },
     "execution_count": 43,
     "metadata": {},
     "output_type": "execute_result"
    }
   ],
   "source": [
    "pred"
   ]
  },
  {
   "cell_type": "code",
   "execution_count": 45,
   "id": "enclosed-coral",
   "metadata": {},
   "outputs": [
    {
     "data": {
      "text/plain": [
       "0.8888888888888888"
      ]
     },
     "execution_count": 45,
     "metadata": {},
     "output_type": "execute_result"
    }
   ],
   "source": [
    "met.accuracy_score(y_train[:,0],pred)"
   ]
  },
  {
   "cell_type": "code",
   "execution_count": 49,
   "id": "vital-tolerance",
   "metadata": {},
   "outputs": [
    {
     "data": {
      "text/plain": [
       "array([[5, 0],\n",
       "       [1, 3]])"
      ]
     },
     "execution_count": 49,
     "metadata": {},
     "output_type": "execute_result"
    }
   ],
   "source": [
    "met.confusion_matrix(y_train[:,0],pred)"
   ]
  },
  {
   "cell_type": "code",
   "execution_count": 46,
   "id": "fifth-rescue",
   "metadata": {},
   "outputs": [
    {
     "data": {
      "text/plain": [
       "1.0"
      ]
     },
     "execution_count": 46,
     "metadata": {},
     "output_type": "execute_result"
    }
   ],
   "source": [
    "met.precision_score(y_train[:,0],pred)"
   ]
  },
  {
   "cell_type": "code",
   "execution_count": 47,
   "id": "rough-hudson",
   "metadata": {},
   "outputs": [
    {
     "data": {
      "text/plain": [
       "0.75"
      ]
     },
     "execution_count": 47,
     "metadata": {},
     "output_type": "execute_result"
    }
   ],
   "source": [
    "met.recall_score(y_train[:,0],pred)"
   ]
  },
  {
   "cell_type": "code",
   "execution_count": 48,
   "id": "greek-saskatchewan",
   "metadata": {},
   "outputs": [
    {
     "data": {
      "text/plain": [
       "0.8571428571428571"
      ]
     },
     "execution_count": 48,
     "metadata": {},
     "output_type": "execute_result"
    }
   ],
   "source": [
    "met.f1_score(y_train[:,0],pred)"
   ]
  },
  {
   "cell_type": "code",
   "execution_count": 51,
   "id": "hired-insight",
   "metadata": {},
   "outputs": [
    {
     "name": "stdout",
     "output_type": "stream",
     "text": [
      "              precision    recall  f1-score   support\n",
      "\n",
      "           0       0.83      1.00      0.91         5\n",
      "           1       1.00      0.75      0.86         4\n",
      "\n",
      "    accuracy                           0.89         9\n",
      "   macro avg       0.92      0.88      0.88         9\n",
      "weighted avg       0.91      0.89      0.89         9\n",
      "\n"
     ]
    }
   ],
   "source": [
    "print(met.classification_report(y_train[:,0],pred))"
   ]
  },
  {
   "cell_type": "markdown",
   "id": "altered-rental",
   "metadata": {},
   "source": [
    "## 예측값에 대한 변환"
   ]
  },
  {
   "cell_type": "code",
   "execution_count": 31,
   "id": "closing-clothing",
   "metadata": {},
   "outputs": [
    {
     "data": {
      "text/plain": [
       "array(['female', 'male'], dtype='<U6')"
      ]
     },
     "execution_count": 31,
     "metadata": {},
     "output_type": "execute_result"
    }
   ],
   "source": [
    "lb.inverse_transform(knn.predict([[180,55],[170,85]]))"
   ]
  },
  {
   "cell_type": "code",
   "execution_count": null,
   "id": "rental-blind",
   "metadata": {},
   "outputs": [],
   "source": []
  }
 ],
 "metadata": {
  "kernelspec": {
   "display_name": "Python 3",
   "language": "python",
   "name": "python3"
  },
  "language_info": {
   "codemirror_mode": {
    "name": "ipython",
    "version": 3
   },
   "file_extension": ".py",
   "mimetype": "text/x-python",
   "name": "python",
   "nbconvert_exporter": "python",
   "pygments_lexer": "ipython3",
   "version": "3.7.9"
  }
 },
 "nbformat": 4,
 "nbformat_minor": 5
}
