{
 "cells": [
  {
   "cell_type": "code",
   "execution_count": 1,
   "id": "million-registrar",
   "metadata": {},
   "outputs": [],
   "source": [
    "import sklearn.preprocessing as pre"
   ]
  },
  {
   "cell_type": "code",
   "execution_count": 13,
   "id": "exterior-personal",
   "metadata": {},
   "outputs": [
    {
     "name": "stdout",
     "output_type": "stream",
     "text": [
      "Binarizer\n",
      "FunctionTransformer\n",
      "KBinsDiscretizer\n",
      "KernelCenterer\n",
      "LabelBinarizer\n",
      "LabelEncoder\n",
      "MaxAbsScaler\n",
      "MinMaxScaler\n",
      "MultiLabelBinarizer\n",
      "Normalizer\n",
      "OneHotEncoder\n",
      "OrdinalEncoder\n",
      "PolynomialFeatures\n",
      "PowerTransformer\n",
      "QuantileTransformer\n",
      "RobustScaler\n",
      "StandardScaler\n",
      "add_dummy_feature\n",
      "binarize\n",
      "label_binarize\n",
      "maxabs_scale\n",
      "minmax_scale\n",
      "normalize\n",
      "power_transform\n",
      "quantile_transform\n",
      "robust_scale\n",
      "scale\n"
     ]
    }
   ],
   "source": [
    "for i in dir(pre) :\n",
    "    print(i) if not i.startswith(\"_\") else _"
   ]
  },
  {
   "cell_type": "code",
   "execution_count": null,
   "id": "exposed-occasions",
   "metadata": {},
   "outputs": [],
   "source": []
  },
  {
   "cell_type": "code",
   "execution_count": 2,
   "id": "obvious-ethiopia",
   "metadata": {},
   "outputs": [],
   "source": [
    "import numpy as np"
   ]
  },
  {
   "cell_type": "code",
   "execution_count": 4,
   "id": "continent-ready",
   "metadata": {},
   "outputs": [],
   "source": [
    "f = np.array([[-550.5],\n",
    "            [-100.1],\n",
    "            [0.0],\n",
    "            [100.1],\n",
    "            [900.9]])"
   ]
  },
  {
   "cell_type": "code",
   "execution_count": 5,
   "id": "physical-witness",
   "metadata": {},
   "outputs": [
    {
     "data": {
      "text/plain": [
       "array([[-550.5],\n",
       "       [-100.1],\n",
       "       [   0. ],\n",
       "       [ 100.1],\n",
       "       [ 900.9]])"
      ]
     },
     "execution_count": 5,
     "metadata": {},
     "output_type": "execute_result"
    }
   ],
   "source": [
    "f"
   ]
  },
  {
   "cell_type": "code",
   "execution_count": 6,
   "id": "precise-comedy",
   "metadata": {},
   "outputs": [],
   "source": [
    "mm_s = pre.MinMaxScaler(feature_range=(0,1))"
   ]
  },
  {
   "cell_type": "code",
   "execution_count": 7,
   "id": "respiratory-hamburg",
   "metadata": {},
   "outputs": [],
   "source": [
    "f_mm_s = mm_s.fit_transform(f)"
   ]
  },
  {
   "cell_type": "code",
   "execution_count": 8,
   "id": "finnish-pacific",
   "metadata": {},
   "outputs": [
    {
     "data": {
      "text/plain": [
       "array([[0.        ],\n",
       "       [0.31032107],\n",
       "       [0.37928896],\n",
       "       [0.44825686],\n",
       "       [1.        ]])"
      ]
     },
     "execution_count": 8,
     "metadata": {},
     "output_type": "execute_result"
    }
   ],
   "source": [
    "f_mm_s"
   ]
  },
  {
   "cell_type": "code",
   "execution_count": null,
   "id": "confused-comparative",
   "metadata": {},
   "outputs": [],
   "source": []
  },
  {
   "cell_type": "code",
   "execution_count": 15,
   "id": "successful-colon",
   "metadata": {},
   "outputs": [],
   "source": [
    "st_s = pre.StandardScaler()"
   ]
  },
  {
   "cell_type": "code",
   "execution_count": 16,
   "id": "ordinary-township",
   "metadata": {},
   "outputs": [],
   "source": [
    "f_st_s = st_s.fit_transform(f)"
   ]
  },
  {
   "cell_type": "code",
   "execution_count": 17,
   "id": "juvenile-monroe",
   "metadata": {},
   "outputs": [
    {
     "data": {
      "text/plain": [
       "array([[-1.31701572],\n",
       "       [-0.36116171],\n",
       "       [-0.14872613],\n",
       "       [ 0.06370945],\n",
       "       [ 1.76319411]])"
      ]
     },
     "execution_count": 17,
     "metadata": {},
     "output_type": "execute_result"
    }
   ],
   "source": [
    "f_st_s"
   ]
  },
  {
   "cell_type": "code",
   "execution_count": null,
   "id": "cultural-corpus",
   "metadata": {},
   "outputs": [],
   "source": []
  },
  {
   "cell_type": "code",
   "execution_count": 18,
   "id": "peaceful-somerset",
   "metadata": {},
   "outputs": [],
   "source": [
    "rb_s = pre.RobustScaler()"
   ]
  },
  {
   "cell_type": "code",
   "execution_count": 19,
   "id": "suffering-taste",
   "metadata": {},
   "outputs": [],
   "source": [
    "f_rb_s = rb_s.fit_transform(f)"
   ]
  },
  {
   "cell_type": "code",
   "execution_count": 20,
   "id": "grave-vault",
   "metadata": {},
   "outputs": [
    {
     "data": {
      "text/plain": [
       "array([[-2.74975025],\n",
       "       [-0.5       ],\n",
       "       [ 0.        ],\n",
       "       [ 0.5       ],\n",
       "       [ 4.5       ]])"
      ]
     },
     "execution_count": 20,
     "metadata": {},
     "output_type": "execute_result"
    }
   ],
   "source": [
    "f_rb_s"
   ]
  },
  {
   "cell_type": "code",
   "execution_count": null,
   "id": "hourly-testament",
   "metadata": {},
   "outputs": [],
   "source": []
  },
  {
   "cell_type": "code",
   "execution_count": 10,
   "id": "wound-finish",
   "metadata": {},
   "outputs": [],
   "source": [
    "ma_s = pre.MaxAbsScaler()"
   ]
  },
  {
   "cell_type": "code",
   "execution_count": 11,
   "id": "spiritual-august",
   "metadata": {},
   "outputs": [],
   "source": [
    "f_ma_s = ma_s.fit_transform(f)"
   ]
  },
  {
   "cell_type": "code",
   "execution_count": 12,
   "id": "viral-formation",
   "metadata": {},
   "outputs": [
    {
     "data": {
      "text/plain": [
       "array([[-0.61105561],\n",
       "       [-0.11111111],\n",
       "       [ 0.        ],\n",
       "       [ 0.11111111],\n",
       "       [ 1.        ]])"
      ]
     },
     "execution_count": 12,
     "metadata": {},
     "output_type": "execute_result"
    }
   ],
   "source": [
    "f_ma_s"
   ]
  },
  {
   "cell_type": "code",
   "execution_count": null,
   "id": "bizarre-radio",
   "metadata": {},
   "outputs": [],
   "source": []
  },
  {
   "cell_type": "code",
   "execution_count": 21,
   "id": "fitting-house",
   "metadata": {},
   "outputs": [],
   "source": [
    "from sklearn.preprocessing import Normalizer\n",
    "X = [[4, 1, 2, 2],\n",
    "      [1, 3, 9, 3],\n",
    "      [5, 7, 5, 1]]\n"
   ]
  },
  {
   "cell_type": "code",
   "execution_count": 24,
   "id": "pressing-valentine",
   "metadata": {},
   "outputs": [],
   "source": [
    "transformer = Normalizer().fit(X)  # fit does nothing."
   ]
  },
  {
   "cell_type": "code",
   "execution_count": 25,
   "id": "coordinate-julian",
   "metadata": {},
   "outputs": [
    {
     "data": {
      "text/plain": [
       "Normalizer()"
      ]
     },
     "execution_count": 25,
     "metadata": {},
     "output_type": "execute_result"
    }
   ],
   "source": [
    "transformer"
   ]
  },
  {
   "cell_type": "code",
   "execution_count": 26,
   "id": "national-accreditation",
   "metadata": {},
   "outputs": [
    {
     "data": {
      "text/plain": [
       "array([[0.8, 0.2, 0.4, 0.4],\n",
       "       [0.1, 0.3, 0.9, 0.3],\n",
       "       [0.5, 0.7, 0.5, 0.1]])"
      ]
     },
     "execution_count": 26,
     "metadata": {},
     "output_type": "execute_result"
    }
   ],
   "source": [
    "transformer.transform(X)"
   ]
  },
  {
   "cell_type": "code",
   "execution_count": null,
   "id": "veterinary-gardening",
   "metadata": {},
   "outputs": [],
   "source": []
  }
 ],
 "metadata": {
  "kernelspec": {
   "display_name": "Python 3",
   "language": "python",
   "name": "python3"
  },
  "language_info": {
   "codemirror_mode": {
    "name": "ipython",
    "version": 3
   },
   "file_extension": ".py",
   "mimetype": "text/x-python",
   "name": "python",
   "nbconvert_exporter": "python",
   "pygments_lexer": "ipython3",
   "version": "3.7.9"
  }
 },
 "nbformat": 4,
 "nbformat_minor": 5
}
