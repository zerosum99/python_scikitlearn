{
 "cells": [
  {
   "cell_type": "code",
   "execution_count": 1,
   "id": "liberal-subdivision",
   "metadata": {},
   "outputs": [],
   "source": [
    "import sklearn.preprocessing as pre"
   ]
  },
  {
   "cell_type": "code",
   "execution_count": 13,
   "id": "driving-marine",
   "metadata": {},
   "outputs": [
    {
     "name": "stdout",
     "output_type": "stream",
     "text": [
      "Binarizer\n",
      "FunctionTransformer\n",
      "KBinsDiscretizer\n",
      "KernelCenterer\n",
      "LabelBinarizer\n",
      "LabelEncoder\n",
      "MaxAbsScaler\n",
      "MinMaxScaler\n",
      "MultiLabelBinarizer\n",
      "Normalizer\n",
      "OneHotEncoder\n",
      "OrdinalEncoder\n",
      "PolynomialFeatures\n",
      "PowerTransformer\n",
      "QuantileTransformer\n",
      "RobustScaler\n",
      "StandardScaler\n",
      "add_dummy_feature\n",
      "binarize\n",
      "label_binarize\n",
      "maxabs_scale\n",
      "minmax_scale\n",
      "normalize\n",
      "power_transform\n",
      "quantile_transform\n",
      "robust_scale\n",
      "scale\n"
     ]
    }
   ],
   "source": [
    "for i in dir(pre) :\n",
    "    print(i) if not i.startswith(\"_\") else _"
   ]
  },
  {
   "cell_type": "code",
   "execution_count": null,
   "id": "engaging-leather",
   "metadata": {},
   "outputs": [],
   "source": []
  },
  {
   "cell_type": "code",
   "execution_count": 2,
   "id": "foreign-allergy",
   "metadata": {},
   "outputs": [],
   "source": [
    "import numpy as np"
   ]
  },
  {
   "cell_type": "code",
   "execution_count": 4,
   "id": "widespread-fetish",
   "metadata": {},
   "outputs": [],
   "source": [
    "f = np.array([[-550.5],\n",
    "            [-100.1],\n",
    "            [0.0],\n",
    "            [100.1],\n",
    "            [900.9]])"
   ]
  },
  {
   "cell_type": "code",
   "execution_count": 5,
   "id": "better-greece",
   "metadata": {},
   "outputs": [
    {
     "data": {
      "text/plain": [
       "array([[-550.5],\n",
       "       [-100.1],\n",
       "       [   0. ],\n",
       "       [ 100.1],\n",
       "       [ 900.9]])"
      ]
     },
     "execution_count": 5,
     "metadata": {},
     "output_type": "execute_result"
    }
   ],
   "source": [
    "f"
   ]
  },
  {
   "cell_type": "code",
   "execution_count": 6,
   "id": "bright-carpet",
   "metadata": {},
   "outputs": [],
   "source": [
    "mm_s = pre.MinMaxScaler(feature_range=(0,1))"
   ]
  },
  {
   "cell_type": "code",
   "execution_count": 7,
   "id": "suspected-suggestion",
   "metadata": {},
   "outputs": [],
   "source": [
    "f_mm_s = mm_s.fit_transform(f)"
   ]
  },
  {
   "cell_type": "code",
   "execution_count": 8,
   "id": "joint-tonight",
   "metadata": {},
   "outputs": [
    {
     "data": {
      "text/plain": [
       "array([[0.        ],\n",
       "       [0.31032107],\n",
       "       [0.37928896],\n",
       "       [0.44825686],\n",
       "       [1.        ]])"
      ]
     },
     "execution_count": 8,
     "metadata": {},
     "output_type": "execute_result"
    }
   ],
   "source": [
    "f_mm_s"
   ]
  },
  {
   "cell_type": "code",
   "execution_count": 10,
   "id": "controlling-coupon",
   "metadata": {},
   "outputs": [],
   "source": [
    "ma_s = pre.MaxAbsScaler()"
   ]
  },
  {
   "cell_type": "code",
   "execution_count": 11,
   "id": "helpful-ferry",
   "metadata": {},
   "outputs": [],
   "source": [
    "f_ma_s = ma_s.fit_transform(f)"
   ]
  },
  {
   "cell_type": "code",
   "execution_count": 12,
   "id": "aerial-grant",
   "metadata": {},
   "outputs": [
    {
     "data": {
      "text/plain": [
       "array([[-0.61105561],\n",
       "       [-0.11111111],\n",
       "       [ 0.        ],\n",
       "       [ 0.11111111],\n",
       "       [ 1.        ]])"
      ]
     },
     "execution_count": 12,
     "metadata": {},
     "output_type": "execute_result"
    }
   ],
   "source": [
    "f_ma_s"
   ]
  },
  {
   "cell_type": "code",
   "execution_count": null,
   "id": "proprietary-lightning",
   "metadata": {},
   "outputs": [],
   "source": []
  }
 ],
 "metadata": {
  "kernelspec": {
   "display_name": "Python 3",
   "language": "python",
   "name": "python3"
  },
  "language_info": {
   "codemirror_mode": {
    "name": "ipython",
    "version": 3
   },
   "file_extension": ".py",
   "mimetype": "text/x-python",
   "name": "python",
   "nbconvert_exporter": "python",
   "pygments_lexer": "ipython3",
   "version": "3.7.9"
  }
 },
 "nbformat": 4,
 "nbformat_minor": 5
}
