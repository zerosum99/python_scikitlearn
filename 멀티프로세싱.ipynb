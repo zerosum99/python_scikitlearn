{
 "cells": [
  {
   "cell_type": "code",
   "execution_count": 1,
   "id": "stainless-carry",
   "metadata": {},
   "outputs": [],
   "source": [
    "import multiprocessing as mp"
   ]
  },
  {
   "cell_type": "code",
   "execution_count": 4,
   "id": "variable-activity",
   "metadata": {},
   "outputs": [
    {
     "name": "stdout",
     "output_type": "stream",
     "text": [
      "Array\n",
      "AuthenticationError\n",
      "Barrier\n",
      "BoundedSemaphore\n",
      "BufferTooShort\n",
      "Condition\n",
      "Event\n",
      "JoinableQueue\n",
      "Lock\n",
      "Manager\n",
      "Pipe\n",
      "Pool\n",
      "Process\n",
      "ProcessError\n",
      "Queue\n",
      "RLock\n",
      "RawArray\n",
      "RawValue\n",
      "SUBDEBUG\n",
      "SUBWARNING\n",
      "Semaphore\n",
      "SimpleQueue\n",
      "TimeoutError\n",
      "Value\n",
      "active_children\n",
      "allow_connection_pickling\n",
      "context\n",
      "cpu_count\n",
      "current_process\n",
      "freeze_support\n",
      "get_all_start_methods\n",
      "get_context\n",
      "get_logger\n",
      "get_start_method\n",
      "log_to_stderr\n",
      "process\n",
      "reducer\n",
      "reduction\n",
      "set_executable\n",
      "set_forkserver_preload\n",
      "set_start_method\n",
      "sys\n"
     ]
    }
   ],
   "source": [
    "for i in dir(mp) :\n",
    "    print(i) if not i.startswith(\"_\") else _"
   ]
  },
  {
   "cell_type": "code",
   "execution_count": null,
   "id": "fluid-german",
   "metadata": {},
   "outputs": [],
   "source": []
  },
  {
   "cell_type": "code",
   "execution_count": 2,
   "id": "fallen-fancy",
   "metadata": {},
   "outputs": [
    {
     "data": {
      "text/plain": [
       "8"
      ]
     },
     "execution_count": 2,
     "metadata": {},
     "output_type": "execute_result"
    }
   ],
   "source": [
    "mp.cpu_count()"
   ]
  },
  {
   "cell_type": "code",
   "execution_count": 6,
   "id": "broadband-seafood",
   "metadata": {},
   "outputs": [
    {
     "data": {
      "text/plain": [
       "<_MainProcess(MainProcess, started)>"
      ]
     },
     "execution_count": 6,
     "metadata": {},
     "output_type": "execute_result"
    }
   ],
   "source": [
    "mp.current_process()"
   ]
  },
  {
   "cell_type": "code",
   "execution_count": 7,
   "id": "constitutional-rubber",
   "metadata": {},
   "outputs": [
    {
     "data": {
      "text/plain": [
       "<multiprocessing.context.ForkContext at 0x7f898cc229d0>"
      ]
     },
     "execution_count": 7,
     "metadata": {},
     "output_type": "execute_result"
    }
   ],
   "source": [
    "mp.get_context()"
   ]
  },
  {
   "cell_type": "code",
   "execution_count": null,
   "id": "offensive-animation",
   "metadata": {},
   "outputs": [],
   "source": []
  },
  {
   "cell_type": "code",
   "execution_count": null,
   "id": "legitimate-skirt",
   "metadata": {},
   "outputs": [],
   "source": []
  },
  {
   "cell_type": "code",
   "execution_count": 8,
   "id": "automotive-engagement",
   "metadata": {},
   "outputs": [],
   "source": [
    "class A() :\n",
    "    a = 10"
   ]
  },
  {
   "cell_type": "code",
   "execution_count": 9,
   "id": "loaded-salmon",
   "metadata": {},
   "outputs": [],
   "source": [
    "x = A(); y=A()"
   ]
  },
  {
   "cell_type": "code",
   "execution_count": 10,
   "id": "positive-notification",
   "metadata": {},
   "outputs": [
    {
     "data": {
      "text/plain": [
       "(10, 10)"
      ]
     },
     "execution_count": 10,
     "metadata": {},
     "output_type": "execute_result"
    }
   ],
   "source": [
    "x.a, y.a"
   ]
  },
  {
   "cell_type": "code",
   "execution_count": 11,
   "id": "korean-howard",
   "metadata": {},
   "outputs": [],
   "source": [
    "x.a = 0"
   ]
  },
  {
   "cell_type": "code",
   "execution_count": 14,
   "id": "british-navigator",
   "metadata": {},
   "outputs": [
    {
     "data": {
      "text/plain": [
       "(10, {'a': 0}, {})"
      ]
     },
     "execution_count": 14,
     "metadata": {},
     "output_type": "execute_result"
    }
   ],
   "source": [
    "A.__dict__['a'], x.__dict__, y.__dict__"
   ]
  },
  {
   "cell_type": "code",
   "execution_count": 15,
   "id": "british-baker",
   "metadata": {},
   "outputs": [],
   "source": [
    "A.a = 1000"
   ]
  },
  {
   "cell_type": "code",
   "execution_count": 16,
   "id": "fossil-assessment",
   "metadata": {},
   "outputs": [
    {
     "data": {
      "text/plain": [
       "(1000, {'a': 0}, {})"
      ]
     },
     "execution_count": 16,
     "metadata": {},
     "output_type": "execute_result"
    }
   ],
   "source": [
    "A.__dict__['a'], x.__dict__, y.__dict__"
   ]
  },
  {
   "cell_type": "code",
   "execution_count": null,
   "id": "impressed-logan",
   "metadata": {},
   "outputs": [],
   "source": []
  }
 ],
 "metadata": {
  "kernelspec": {
   "display_name": "Python 3",
   "language": "python",
   "name": "python3"
  },
  "language_info": {
   "codemirror_mode": {
    "name": "ipython",
    "version": 3
   },
   "file_extension": ".py",
   "mimetype": "text/x-python",
   "name": "python",
   "nbconvert_exporter": "python",
   "pygments_lexer": "ipython3",
   "version": "3.7.9"
  }
 },
 "nbformat": 4,
 "nbformat_minor": 5
}
